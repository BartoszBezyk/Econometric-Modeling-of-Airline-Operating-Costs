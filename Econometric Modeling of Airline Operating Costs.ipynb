{
 "cells": [
  {
   "cell_type": "markdown",
   "id": "557e4ae9",
   "metadata": {},
   "source": [
    "# 1. Description of the Data and the Predicted Variable\n",
    "\n",
    "The analyzed data contains information about six different airlines over a span of fifteen years. Below is a detailed description of the variables:\n",
    "\n",
    "- **Year** - The year of observation.\n",
    "- **AirlineID** - The ID of the airline.\n",
    "- **TotalCost** - The total cost.\n",
    "- **Output** - Production, measured in passenger miles. The size of production can affect costs through economies of scale. A larger scale of operations may allow for the distribution of fixed costs over a greater number of production units, thereby reducing average costs.\n",
    "- **FuelPrice** - The price of fuel. It directly influences operational costs. Changes in fuel prices can significantly impact airline costs, as fuel is one of the main components of operating expenses.\n",
    "- **LoadFactor** - Fleet utilization rate. This indicator shows how effectively an airline is using its fleet. A higher load factor indicates better utilization of passenger space and potentially lower costs per unit of production.\n",
    "\n",
    "The predicted variable is the total cost (**TotalCost**).\n"
   ]
  },
  {
   "cell_type": "markdown",
   "id": "72615225",
   "metadata": {},
   "source": [
    "# 2.  Loading and preparing the data"
   ]
  },
  {
   "cell_type": "code",
   "execution_count": 217,
   "id": "50fa11f4",
   "metadata": {},
   "outputs": [],
   "source": [
    "library(MASS)\n",
    "library(leaps)\n",
    "library(caret)\n",
    "library(nlme)\n",
    "library(e1071)\n",
    "library(randtests)\n",
    "library(tseries)\n",
    "library(lmtest)"
   ]
  },
  {
   "cell_type": "code",
   "execution_count": 218,
   "id": "d7bc3d12",
   "metadata": {},
   "outputs": [],
   "source": [
    "# Load the data from the CSV file\n",
    "data <- read.csv(\"C:/Users/barte/OneDrive/Pulpit/north/PanelData.csv\")"
   ]
  },
  {
   "cell_type": "code",
   "execution_count": 219,
   "id": "d07393e3",
   "metadata": {},
   "outputs": [],
   "source": [
    "# Rename columns for better readability\n",
    "colnames(data) <- c(\"AirlineID\", \"Year\", \"TotalCost\", \"Output\", \"FuelPrice\", \"LoadFactor\")"
   ]
  },
  {
   "cell_type": "code",
   "execution_count": 220,
   "id": "65c2587b",
   "metadata": {},
   "outputs": [
    {
     "data": {
      "text/html": [
       "<table class=\"dataframe\">\n",
       "<caption>A data.frame: 6 × 6</caption>\n",
       "<thead>\n",
       "\t<tr><th></th><th scope=col>AirlineID</th><th scope=col>Year</th><th scope=col>TotalCost</th><th scope=col>Output</th><th scope=col>FuelPrice</th><th scope=col>LoadFactor</th></tr>\n",
       "\t<tr><th></th><th scope=col>&lt;int&gt;</th><th scope=col>&lt;int&gt;</th><th scope=col>&lt;int&gt;</th><th scope=col>&lt;dbl&gt;</th><th scope=col>&lt;int&gt;</th><th scope=col>&lt;dbl&gt;</th></tr>\n",
       "</thead>\n",
       "<tbody>\n",
       "\t<tr><th scope=row>1</th><td>1</td><td>1</td><td>1140640</td><td>0.952757</td><td>106650</td><td>0.534487</td></tr>\n",
       "\t<tr><th scope=row>2</th><td>1</td><td>2</td><td>1215690</td><td>0.986757</td><td>110307</td><td>0.532328</td></tr>\n",
       "\t<tr><th scope=row>3</th><td>1</td><td>3</td><td>1309570</td><td>1.091980</td><td>110574</td><td>0.547736</td></tr>\n",
       "\t<tr><th scope=row>4</th><td>1</td><td>4</td><td>1511530</td><td>1.175780</td><td>121974</td><td>0.540846</td></tr>\n",
       "\t<tr><th scope=row>5</th><td>1</td><td>5</td><td>1676730</td><td>1.160170</td><td>196606</td><td>0.591167</td></tr>\n",
       "\t<tr><th scope=row>6</th><td>1</td><td>6</td><td>1823740</td><td>1.173760</td><td>265609</td><td>0.575417</td></tr>\n",
       "</tbody>\n",
       "</table>\n"
      ],
      "text/latex": [
       "A data.frame: 6 × 6\n",
       "\\begin{tabular}{r|llllll}\n",
       "  & AirlineID & Year & TotalCost & Output & FuelPrice & LoadFactor\\\\\n",
       "  & <int> & <int> & <int> & <dbl> & <int> & <dbl>\\\\\n",
       "\\hline\n",
       "\t1 & 1 & 1 & 1140640 & 0.952757 & 106650 & 0.534487\\\\\n",
       "\t2 & 1 & 2 & 1215690 & 0.986757 & 110307 & 0.532328\\\\\n",
       "\t3 & 1 & 3 & 1309570 & 1.091980 & 110574 & 0.547736\\\\\n",
       "\t4 & 1 & 4 & 1511530 & 1.175780 & 121974 & 0.540846\\\\\n",
       "\t5 & 1 & 5 & 1676730 & 1.160170 & 196606 & 0.591167\\\\\n",
       "\t6 & 1 & 6 & 1823740 & 1.173760 & 265609 & 0.575417\\\\\n",
       "\\end{tabular}\n"
      ],
      "text/markdown": [
       "\n",
       "A data.frame: 6 × 6\n",
       "\n",
       "| <!--/--> | AirlineID &lt;int&gt; | Year &lt;int&gt; | TotalCost &lt;int&gt; | Output &lt;dbl&gt; | FuelPrice &lt;int&gt; | LoadFactor &lt;dbl&gt; |\n",
       "|---|---|---|---|---|---|---|\n",
       "| 1 | 1 | 1 | 1140640 | 0.952757 | 106650 | 0.534487 |\n",
       "| 2 | 1 | 2 | 1215690 | 0.986757 | 110307 | 0.532328 |\n",
       "| 3 | 1 | 3 | 1309570 | 1.091980 | 110574 | 0.547736 |\n",
       "| 4 | 1 | 4 | 1511530 | 1.175780 | 121974 | 0.540846 |\n",
       "| 5 | 1 | 5 | 1676730 | 1.160170 | 196606 | 0.591167 |\n",
       "| 6 | 1 | 6 | 1823740 | 1.173760 | 265609 | 0.575417 |\n",
       "\n"
      ],
      "text/plain": [
       "  AirlineID Year TotalCost Output   FuelPrice LoadFactor\n",
       "1 1         1    1140640   0.952757 106650    0.534487  \n",
       "2 1         2    1215690   0.986757 110307    0.532328  \n",
       "3 1         3    1309570   1.091980 110574    0.547736  \n",
       "4 1         4    1511530   1.175780 121974    0.540846  \n",
       "5 1         5    1676730   1.160170 196606    0.591167  \n",
       "6 1         6    1823740   1.173760 265609    0.575417  "
      ]
     },
     "metadata": {},
     "output_type": "display_data"
    },
    {
     "data": {
      "text/plain": [
       "   AirlineID        Year      TotalCost           Output       \n",
       " Min.   :1.0   Min.   : 1   Min.   :  68978   Min.   :0.03768  \n",
       " 1st Qu.:2.0   1st Qu.: 4   1st Qu.: 292046   1st Qu.:0.14213  \n",
       " Median :3.5   Median : 8   Median : 637001   Median :0.30503  \n",
       " Mean   :3.5   Mean   : 8   Mean   :1122524   Mean   :0.54499  \n",
       " 3rd Qu.:5.0   3rd Qu.:12   3rd Qu.:1345968   3rd Qu.:0.94528  \n",
       " Max.   :6.0   Max.   :15   Max.   :4748320   Max.   :1.93646  \n",
       "   FuelPrice         LoadFactor    \n",
       " Min.   : 103795   Min.   :0.4321  \n",
       " 1st Qu.: 129848   1st Qu.:0.5288  \n",
       " Median : 357434   Median :0.5661  \n",
       " Mean   : 471683   Mean   :0.5605  \n",
       " 3rd Qu.: 849840   3rd Qu.:0.5947  \n",
       " Max.   :1015610   Max.   :0.6763  "
      ]
     },
     "metadata": {},
     "output_type": "display_data"
    }
   ],
   "source": [
    "# Display the first few rows and summary statistics\n",
    "head(data)\n",
    "summary(data)"
   ]
  },
  {
   "cell_type": "code",
   "execution_count": 221,
   "id": "f7f02ef3",
   "metadata": {},
   "outputs": [
    {
     "data": {
      "text/html": [
       "0"
      ],
      "text/latex": [
       "0"
      ],
      "text/markdown": [
       "0"
      ],
      "text/plain": [
       "[1] 0"
      ]
     },
     "metadata": {},
     "output_type": "display_data"
    },
    {
     "data": {
      "text/html": [
       "0"
      ],
      "text/latex": [
       "0"
      ],
      "text/markdown": [
       "0"
      ],
      "text/plain": [
       "[1] 0"
      ]
     },
     "metadata": {},
     "output_type": "display_data"
    },
    {
     "data": {
      "text/html": [
       "0"
      ],
      "text/latex": [
       "0"
      ],
      "text/markdown": [
       "0"
      ],
      "text/plain": [
       "[1] 0"
      ]
     },
     "metadata": {},
     "output_type": "display_data"
    },
    {
     "data": {
      "text/html": [
       "0"
      ],
      "text/latex": [
       "0"
      ],
      "text/markdown": [
       "0"
      ],
      "text/plain": [
       "[1] 0"
      ]
     },
     "metadata": {},
     "output_type": "display_data"
    },
    {
     "data": {
      "text/html": [
       "0"
      ],
      "text/latex": [
       "0"
      ],
      "text/markdown": [
       "0"
      ],
      "text/plain": [
       "[1] 0"
      ]
     },
     "metadata": {},
     "output_type": "display_data"
    },
    {
     "data": {
      "text/html": [
       "0"
      ],
      "text/latex": [
       "0"
      ],
      "text/markdown": [
       "0"
      ],
      "text/plain": [
       "[1] 0"
      ]
     },
     "metadata": {},
     "output_type": "display_data"
    }
   ],
   "source": [
    "# Check for missing values in each column\n",
    "sum(is.na(data$AirlineID))\n",
    "sum(is.na(data$Year))\n",
    "sum(is.na(data$TotalCost))\n",
    "sum(is.na(data$Output))\n",
    "sum(is.na(data$FuelPrice))\n",
    "sum(is.na(data$LoadFactor))"
   ]
  },
  {
   "cell_type": "code",
   "execution_count": 266,
   "id": "9cbd0db1",
   "metadata": {},
   "outputs": [],
   "source": [
    "# Set seed for reproducibility\n",
    "set.seed(155)"
   ]
  },
  {
   "cell_type": "markdown",
   "id": "1c03665d",
   "metadata": {},
   "source": [
    "## Data Splitting into Training and Test Sets\n",
    "\n",
    "The data was divided in a 4:1 ratio for the training set. An equal number of observations were randomly selected for each airline (a total of 20% of the original dataset) for the test set.\n"
   ]
  },
  {
   "cell_type": "code",
   "execution_count": 267,
   "id": "f9e0f5ee",
   "metadata": {},
   "outputs": [],
   "source": [
    "# Initialize empty data frames for training and testing datasets\n",
    "train_df <- data.frame()\n",
    "test_df <- data.frame()"
   ]
  },
  {
   "cell_type": "code",
   "execution_count": 268,
   "id": "96a8cb6f",
   "metadata": {},
   "outputs": [],
   "source": [
    "# Loop through each unique airline ID to create training and testing datasets\n",
    "for(airline in unique(data$AirlineID)) {\n",
    "  airline_data <- data[data$AirlineID == airline, ]\n",
    "  train_indices <- sample(1:nrow(airline_data), size = floor(0.8 * nrow(airline_data)))\n",
    "  train_subset <- airline_data[train_indices, ]\n",
    "  train_df <- rbind(train_df, train_subset)\n",
    "  test_subset <- airline_data[-train_indices, ]\n",
    "  test_df <- rbind(test_df, test_subset)\n",
    "}"
   ]
  },
  {
   "cell_type": "code",
   "execution_count": 269,
   "id": "e86fd6ea",
   "metadata": {},
   "outputs": [],
   "source": [
    "# Replace original data with the training dataset\n",
    "data <- train_df\n",
    "test <- test_df"
   ]
  },
  {
   "cell_type": "code",
   "execution_count": 270,
   "id": "abca2fef",
   "metadata": {},
   "outputs": [
    {
     "data": {
      "text/plain": [
       "   AirlineID        Year          TotalCost           Output       \n",
       " Min.   :1.0   Min.   : 1.000   Min.   :  68978   Min.   :0.03768  \n",
       " 1st Qu.:2.0   1st Qu.: 4.250   1st Qu.: 309315   1st Qu.:0.14213  \n",
       " Median :3.5   Median : 8.000   Median : 655080   Median :0.30503  \n",
       " Mean   :3.5   Mean   : 8.148   Mean   :1164278   Mean   :0.56730  \n",
       " 3rd Qu.:5.0   3rd Qu.:12.000   3rd Qu.:1492890   3rd Qu.:1.06899  \n",
       " Max.   :6.0   Max.   :15.000   Max.   :4282880   Max.   :1.82544  \n",
       "   FuelPrice         LoadFactor     log_TotalCost   sqrt_TotalCost  \n",
       " Min.   : 110574   Min.   :0.4321   Min.   :11.14   Min.   : 262.6  \n",
       " 1st Qu.: 145606   1st Qu.:0.5290   1st Qu.:12.64   1st Qu.: 556.2  \n",
       " Median : 355845   Median :0.5681   Median :13.39   Median : 809.3  \n",
       " Mean   : 481761   Mean   :0.5626   Mean   :13.39   Mean   : 947.7  \n",
       " 3rd Qu.: 847450   3rd Qu.:0.6029   3rd Qu.:14.22   3rd Qu.:1221.8  \n",
       " Max.   :1015610   Max.   :0.6763   Max.   :15.27   Max.   :2069.5  "
      ]
     },
     "metadata": {},
     "output_type": "display_data"
    }
   ],
   "source": [
    "# Display summary statistics for the training data\n",
    "summary(data)"
   ]
  },
  {
   "cell_type": "markdown",
   "id": "9269db38",
   "metadata": {},
   "source": [
    "# 3. Selection of Variables for the Model\n"
   ]
  },
  {
   "cell_type": "markdown",
   "id": "a6c55d41",
   "metadata": {},
   "source": [
    "## 3.1. Information Capacity Index (ICA) Method\n",
    "\n",
    "To select variables using this method, the variables **R0** and **R** were created.\n",
    "- **R0** is the vector of correlations of each dependent variable with the independent variable.\n",
    "- **R** is the correlation matrix among the explanatory variables.\n"
   ]
  },
  {
   "cell_type": "code",
   "execution_count": 271,
   "id": "fd959c95",
   "metadata": {},
   "outputs": [
    {
     "data": {
      "text/plain": [
       "\n",
       "Call:\n",
       "lm(formula = TotalCost ~ FuelPrice + LoadFactor + Output + AirlineID + \n",
       "    Year, data = data)\n",
       "\n",
       "Residuals:\n",
       "    Min      1Q  Median      3Q     Max \n",
       "-528938 -218976   25497  182961  826388 \n",
       "\n",
       "Coefficients:\n",
       "              Estimate Std. Error t value Pr(>|t|)    \n",
       "(Intercept)  1.027e+06  6.196e+05   1.658  0.10392    \n",
       "FuelPrice    7.728e-01  3.341e-01   2.313  0.02505 *  \n",
       "LoadFactor  -3.152e+06  1.022e+06  -3.086  0.00337 ** \n",
       "Output       2.114e+06  1.725e+05  12.253  < 2e-16 ***\n",
       "AirlineID    3.915e+04  5.551e+04   0.705  0.48407    \n",
       "Year         2.477e+04  2.834e+04   0.874  0.38632    \n",
       "---\n",
       "Signif. codes:  0 '***' 0.001 '**' 0.01 '*' 0.05 '.' 0.1 ' ' 1\n",
       "\n",
       "Residual standard error: 284800 on 48 degrees of freedom\n",
       "Multiple R-squared:  0.9486,\tAdjusted R-squared:  0.9432 \n",
       "F-statistic: 177.1 on 5 and 48 DF,  p-value: < 2.2e-16\n"
      ]
     },
     "metadata": {},
     "output_type": "display_data"
    }
   ],
   "source": [
    "# Build a full model with all potential explanatory variables\n",
    "full_model <- lm(TotalCost ~ FuelPrice + LoadFactor + Output + AirlineID + Year, data = data)\n",
    "summary(full_model)"
   ]
  },
  {
   "cell_type": "code",
   "execution_count": 272,
   "id": "8da02c6e",
   "metadata": {},
   "outputs": [],
   "source": [
    "# Define a list of explanatory variables\n",
    "variables <- c(\"AirlineID\", \"Year\", \"FuelPrice\", \"LoadFactor\", \"Output\")"
   ]
  },
  {
   "cell_type": "code",
   "execution_count": 273,
   "id": "cd7eebe3",
   "metadata": {},
   "outputs": [
    {
     "data": {
      "text/html": [
       "<table class=\"dataframe\">\n",
       "<caption>A matrix: 6 × 6 of type dbl</caption>\n",
       "<thead>\n",
       "\t<tr><th></th><th scope=col>TotalCost</th><th scope=col>AirlineID</th><th scope=col>Year</th><th scope=col>FuelPrice</th><th scope=col>LoadFactor</th><th scope=col>Output</th></tr>\n",
       "</thead>\n",
       "<tbody>\n",
       "\t<tr><th scope=row>TotalCost</th><td> 1.0000000</td><td>-0.73411154</td><td> 0.49589237</td><td>0.46046204</td><td> 0.4822781</td><td> 0.9330463</td></tr>\n",
       "\t<tr><th scope=row>AirlineID</th><td>-0.7341115</td><td> 1.00000000</td><td>-0.03494943</td><td>0.02596616</td><td>-0.4429044</td><td>-0.8734799</td></tr>\n",
       "\t<tr><th scope=row>Year</th><td> 0.4958924</td><td>-0.03494943</td><td> 1.00000000</td><td>0.93071837</td><td> 0.5655070</td><td> 0.2946283</td></tr>\n",
       "\t<tr><th scope=row>FuelPrice</th><td> 0.4604620</td><td> 0.02596616</td><td> 0.93071837</td><td>1.00000000</td><td> 0.4425236</td><td> 0.2278836</td></tr>\n",
       "\t<tr><th scope=row>LoadFactor</th><td> 0.4822781</td><td>-0.44290443</td><td> 0.56550698</td><td>0.44252361</td><td> 1.0000000</td><td> 0.5164785</td></tr>\n",
       "\t<tr><th scope=row>Output</th><td> 0.9330463</td><td>-0.87347991</td><td> 0.29462831</td><td>0.22788360</td><td> 0.5164785</td><td> 1.0000000</td></tr>\n",
       "</tbody>\n",
       "</table>\n"
      ],
      "text/latex": [
       "A matrix: 6 × 6 of type dbl\n",
       "\\begin{tabular}{r|llllll}\n",
       "  & TotalCost & AirlineID & Year & FuelPrice & LoadFactor & Output\\\\\n",
       "\\hline\n",
       "\tTotalCost &  1.0000000 & -0.73411154 &  0.49589237 & 0.46046204 &  0.4822781 &  0.9330463\\\\\n",
       "\tAirlineID & -0.7341115 &  1.00000000 & -0.03494943 & 0.02596616 & -0.4429044 & -0.8734799\\\\\n",
       "\tYear &  0.4958924 & -0.03494943 &  1.00000000 & 0.93071837 &  0.5655070 &  0.2946283\\\\\n",
       "\tFuelPrice &  0.4604620 &  0.02596616 &  0.93071837 & 1.00000000 &  0.4425236 &  0.2278836\\\\\n",
       "\tLoadFactor &  0.4822781 & -0.44290443 &  0.56550698 & 0.44252361 &  1.0000000 &  0.5164785\\\\\n",
       "\tOutput &  0.9330463 & -0.87347991 &  0.29462831 & 0.22788360 &  0.5164785 &  1.0000000\\\\\n",
       "\\end{tabular}\n"
      ],
      "text/markdown": [
       "\n",
       "A matrix: 6 × 6 of type dbl\n",
       "\n",
       "| <!--/--> | TotalCost | AirlineID | Year | FuelPrice | LoadFactor | Output |\n",
       "|---|---|---|---|---|---|---|\n",
       "| TotalCost |  1.0000000 | -0.73411154 |  0.49589237 | 0.46046204 |  0.4822781 |  0.9330463 |\n",
       "| AirlineID | -0.7341115 |  1.00000000 | -0.03494943 | 0.02596616 | -0.4429044 | -0.8734799 |\n",
       "| Year |  0.4958924 | -0.03494943 |  1.00000000 | 0.93071837 |  0.5655070 |  0.2946283 |\n",
       "| FuelPrice |  0.4604620 |  0.02596616 |  0.93071837 | 1.00000000 |  0.4425236 |  0.2278836 |\n",
       "| LoadFactor |  0.4822781 | -0.44290443 |  0.56550698 | 0.44252361 |  1.0000000 |  0.5164785 |\n",
       "| Output |  0.9330463 | -0.87347991 |  0.29462831 | 0.22788360 |  0.5164785 |  1.0000000 |\n",
       "\n"
      ],
      "text/plain": [
       "           TotalCost  AirlineID   Year        FuelPrice  LoadFactor Output    \n",
       "TotalCost   1.0000000 -0.73411154  0.49589237 0.46046204  0.4822781  0.9330463\n",
       "AirlineID  -0.7341115  1.00000000 -0.03494943 0.02596616 -0.4429044 -0.8734799\n",
       "Year        0.4958924 -0.03494943  1.00000000 0.93071837  0.5655070  0.2946283\n",
       "FuelPrice   0.4604620  0.02596616  0.93071837 1.00000000  0.4425236  0.2278836\n",
       "LoadFactor  0.4822781 -0.44290443  0.56550698 0.44252361  1.0000000  0.5164785\n",
       "Output      0.9330463 -0.87347991  0.29462831 0.22788360  0.5164785  1.0000000"
      ]
     },
     "metadata": {},
     "output_type": "display_data"
    }
   ],
   "source": [
    "# Calculate the correlation matrix for the selected variables\n",
    "cor_matrix <- cor(data[, c(\"TotalCost\", variables)])\n",
    "cor_matrix"
   ]
  },
  {
   "cell_type": "code",
   "execution_count": 274,
   "id": "e4a6f9d0",
   "metadata": {},
   "outputs": [
    {
     "data": {
      "text/html": [
       "<style>\n",
       ".dl-inline {width: auto; margin:0; padding: 0}\n",
       ".dl-inline>dt, .dl-inline>dd {float: none; width: auto; display: inline-block}\n",
       ".dl-inline>dt::after {content: \":\\0020\"; padding-right: .5ex}\n",
       ".dl-inline>dt:not(:first-of-type) {padding-left: .5ex}\n",
       "</style><dl class=dl-inline><dt>AirlineID</dt><dd>-0.73411153897726</dd><dt>Year</dt><dd>0.495892374290833</dd><dt>FuelPrice</dt><dd>0.460462036609943</dd><dt>LoadFactor</dt><dd>0.482278143040026</dd><dt>Output</dt><dd>0.933046330317368</dd></dl>\n"
      ],
      "text/latex": [
       "\\begin{description*}\n",
       "\\item[AirlineID] -0.73411153897726\n",
       "\\item[Year] 0.495892374290833\n",
       "\\item[FuelPrice] 0.460462036609943\n",
       "\\item[LoadFactor] 0.482278143040026\n",
       "\\item[Output] 0.933046330317368\n",
       "\\end{description*}\n"
      ],
      "text/markdown": [
       "AirlineID\n",
       ":   -0.73411153897726Year\n",
       ":   0.495892374290833FuelPrice\n",
       ":   0.460462036609943LoadFactor\n",
       ":   0.482278143040026Output\n",
       ":   0.933046330317368\n",
       "\n"
      ],
      "text/plain": [
       " AirlineID       Year  FuelPrice LoadFactor     Output \n",
       "-0.7341115  0.4958924  0.4604620  0.4822781  0.9330463 "
      ]
     },
     "metadata": {},
     "output_type": "display_data"
    },
    {
     "data": {
      "text/html": [
       "<table class=\"dataframe\">\n",
       "<caption>A matrix: 5 × 5 of type dbl</caption>\n",
       "<thead>\n",
       "\t<tr><th></th><th scope=col>AirlineID</th><th scope=col>Year</th><th scope=col>FuelPrice</th><th scope=col>LoadFactor</th><th scope=col>Output</th></tr>\n",
       "</thead>\n",
       "<tbody>\n",
       "\t<tr><th scope=row>AirlineID</th><td>1.00000000</td><td>0.03494943</td><td>0.02596616</td><td>0.4429044</td><td>0.8734799</td></tr>\n",
       "\t<tr><th scope=row>Year</th><td>0.03494943</td><td>1.00000000</td><td>0.93071837</td><td>0.5655070</td><td>0.2946283</td></tr>\n",
       "\t<tr><th scope=row>FuelPrice</th><td>0.02596616</td><td>0.93071837</td><td>1.00000000</td><td>0.4425236</td><td>0.2278836</td></tr>\n",
       "\t<tr><th scope=row>LoadFactor</th><td>0.44290443</td><td>0.56550698</td><td>0.44252361</td><td>1.0000000</td><td>0.5164785</td></tr>\n",
       "\t<tr><th scope=row>Output</th><td>0.87347991</td><td>0.29462831</td><td>0.22788360</td><td>0.5164785</td><td>1.0000000</td></tr>\n",
       "</tbody>\n",
       "</table>\n"
      ],
      "text/latex": [
       "A matrix: 5 × 5 of type dbl\n",
       "\\begin{tabular}{r|lllll}\n",
       "  & AirlineID & Year & FuelPrice & LoadFactor & Output\\\\\n",
       "\\hline\n",
       "\tAirlineID & 1.00000000 & 0.03494943 & 0.02596616 & 0.4429044 & 0.8734799\\\\\n",
       "\tYear & 0.03494943 & 1.00000000 & 0.93071837 & 0.5655070 & 0.2946283\\\\\n",
       "\tFuelPrice & 0.02596616 & 0.93071837 & 1.00000000 & 0.4425236 & 0.2278836\\\\\n",
       "\tLoadFactor & 0.44290443 & 0.56550698 & 0.44252361 & 1.0000000 & 0.5164785\\\\\n",
       "\tOutput & 0.87347991 & 0.29462831 & 0.22788360 & 0.5164785 & 1.0000000\\\\\n",
       "\\end{tabular}\n"
      ],
      "text/markdown": [
       "\n",
       "A matrix: 5 × 5 of type dbl\n",
       "\n",
       "| <!--/--> | AirlineID | Year | FuelPrice | LoadFactor | Output |\n",
       "|---|---|---|---|---|---|\n",
       "| AirlineID | 1.00000000 | 0.03494943 | 0.02596616 | 0.4429044 | 0.8734799 |\n",
       "| Year | 0.03494943 | 1.00000000 | 0.93071837 | 0.5655070 | 0.2946283 |\n",
       "| FuelPrice | 0.02596616 | 0.93071837 | 1.00000000 | 0.4425236 | 0.2278836 |\n",
       "| LoadFactor | 0.44290443 | 0.56550698 | 0.44252361 | 1.0000000 | 0.5164785 |\n",
       "| Output | 0.87347991 | 0.29462831 | 0.22788360 | 0.5164785 | 1.0000000 |\n",
       "\n"
      ],
      "text/plain": [
       "           AirlineID  Year       FuelPrice  LoadFactor Output   \n",
       "AirlineID  1.00000000 0.03494943 0.02596616 0.4429044  0.8734799\n",
       "Year       0.03494943 1.00000000 0.93071837 0.5655070  0.2946283\n",
       "FuelPrice  0.02596616 0.93071837 1.00000000 0.4425236  0.2278836\n",
       "LoadFactor 0.44290443 0.56550698 0.44252361 1.0000000  0.5164785\n",
       "Output     0.87347991 0.29462831 0.22788360 0.5164785  1.0000000"
      ]
     },
     "metadata": {},
     "output_type": "display_data"
    }
   ],
   "source": [
    "# Extract correlation values for further analysis\n",
    "R0 <- cor_matrix[\"TotalCost\", variables]\n",
    "R <- abs(cor_matrix[variables, variables])\n",
    "R0\n",
    "R"
   ]
  },
  {
   "cell_type": "markdown",
   "id": "04e4de9b",
   "metadata": {},
   "source": [
    "### 3.1.1. Calculation of Information Capacity for Each Variable\n",
    "\n",
    "By considering 5 potential explanatory variables, we obtained 31 combinations in the models. Next, the individual information capacity for each variable was calculated using the following formula:\n",
    "\n",
    "$$h_{kj} = \\frac{r_j^2}{\\sum_{l=1}^{m_k} \\left|r_{lj}\\right|}$$\n",
    "\n",
    "where:\n",
    "\n",
    "\\begin{align*}\n",
    "&\\bullet \\, k \\text{ is the combination number } (k = 1, 2, \\ldots, 2^m - 1).\\\\\n",
    "&\\bullet \\, j \\text{ is the variable number in the considered combination}.\\\\\n",
    "&\\bullet \\, r_j \\text{ is the correlation coefficient of the potential explanatory variable } j \\text{ with the dependent variable}.\\\\\n",
    "&\\bullet \\, m_k \\text{ is the number of variables in the } k\\text{-th combination}.\\\\\n",
    "&\\bullet \\, r_{lj} \\text{ is the correlation coefficient between the } j\\text{-th and } l\\text{-th potential explanatory variables}.\n",
    "\\end{align*}\n"
   ]
  },
  {
   "cell_type": "code",
   "execution_count": 275,
   "id": "a51bf0a9",
   "metadata": {},
   "outputs": [],
   "source": [
    "# Function to calculate information capacity for a single variable\n",
    "calc_variable_info_capacity <- function(variable, R0, R) {\n",
    "  rj_squared <- R0[variable]^2\n",
    "  sum_rlj <- sum(R[variable, ])\n",
    "  hkj <- rj_squared / (1 + sum_rlj)\n",
    "  return(hkj)\n",
    "}"
   ]
  },
  {
   "cell_type": "code",
   "execution_count": 276,
   "id": "ede1f817",
   "metadata": {},
   "outputs": [
    {
     "data": {
      "text/html": [
       "<style>\n",
       ".dl-inline {width: auto; margin:0; padding: 0}\n",
       ".dl-inline>dt, .dl-inline>dd {float: none; width: auto; display: inline-block}\n",
       ".dl-inline>dt::after {content: \":\\0020\"; padding-right: .5ex}\n",
       ".dl-inline>dt:not(:first-of-type) {padding-left: .5ex}\n",
       "</style><dl class=dl-inline><dt>AirlineID.AirlineID</dt><dd>0.159571184552275</dd><dt>Year.Year</dt><dd>0.064276503845396</dd><dt>FuelPrice.FuelPrice</dt><dd>0.0584560034067745</dd><dt>LoadFactor.LoadFactor</dt><dd>0.0586256521833001</dd><dt>Output.Output</dt><dd>0.222512983754581</dd></dl>\n"
      ],
      "text/latex": [
       "\\begin{description*}\n",
       "\\item[AirlineID.AirlineID] 0.159571184552275\n",
       "\\item[Year.Year] 0.064276503845396\n",
       "\\item[FuelPrice.FuelPrice] 0.0584560034067745\n",
       "\\item[LoadFactor.LoadFactor] 0.0586256521833001\n",
       "\\item[Output.Output] 0.222512983754581\n",
       "\\end{description*}\n"
      ],
      "text/markdown": [
       "AirlineID.AirlineID\n",
       ":   0.159571184552275Year.Year\n",
       ":   0.064276503845396FuelPrice.FuelPrice\n",
       ":   0.0584560034067745LoadFactor.LoadFactor\n",
       ":   0.0586256521833001Output.Output\n",
       ":   0.222512983754581\n",
       "\n"
      ],
      "text/plain": [
       "  AirlineID.AirlineID             Year.Year   FuelPrice.FuelPrice \n",
       "           0.15957118            0.06427650            0.05845600 \n",
       "LoadFactor.LoadFactor         Output.Output \n",
       "           0.05862565            0.22251298 "
      ]
     },
     "metadata": {},
     "output_type": "display_data"
    }
   ],
   "source": [
    "single_info_capacities <- sapply(variables, calc_variable_info_capacity, R0 = R0, R = R)\n",
    "single_info_capacities"
   ]
  },
  {
   "cell_type": "markdown",
   "id": "ae21552a",
   "metadata": {},
   "source": [
    "### 3.1.2. Calculation of Information Capacity for All Combinations\n",
    "\n",
    "The information capacity for all combinations of the variables was calculated using the following formula:\n",
    "\n",
    "$$\n",
    "H_k = \\sum_{j=1}^{m_k} h_{kj}\n",
    "$$\n",
    "\n",
    "where:\n",
    "\n",
    "\\begin{align*}\n",
    "&\\bullet \\, H_k \\text{ is the total information capacity for the } k\\text{-th combination of variables}.\\\\\n",
    "&\\bullet \\, h_{kj} \\text{ is the individual information capacity for the } j\\text{-th variable in the } k\\text{-th combination}.\\\\\n",
    "&\\bullet \\, m_k \\text{ is the number of variables in the } k\\text{-th combination}.\n",
    "\\end{align*}\n",
    "\n",
    "After calculating the information capacity for all combinations, the top three combinations with the highest total values were selected.\n"
   ]
  },
  {
   "cell_type": "code",
   "execution_count": 277,
   "id": "a0f61391",
   "metadata": {},
   "outputs": [],
   "source": [
    "# Function to calculate information capacity for a combination of variables\n",
    "calc_combination_info_capacity <- function(combination, R0, R) {\n",
    "  hk <- sapply(combination, calc_variable_info_capacity, R0=R0, R=R)\n",
    "  Hk <- sum(hk)\n",
    "  return(Hk)\n",
    "}"
   ]
  },
  {
   "cell_type": "code",
   "execution_count": 278,
   "id": "d26579f0",
   "metadata": {},
   "outputs": [],
   "source": [
    "# Calculate information capacity for all combinations of variables\n",
    "info_capacities <- list()\n",
    "for (k in 1:length(variables)) {\n",
    "  combinations <- combn(variables, k, simplify = FALSE)\n",
    "  for (i in 1:length(combinations)) {\n",
    "    comb <- combinations[[i]]\n",
    "    comb_name <- paste(comb, collapse = \"_\")\n",
    "    info_capacities[[comb_name]] <- calc_combination_info_capacity(comb, R0, R)\n",
    "  }\n",
    "}"
   ]
  },
  {
   "cell_type": "code",
   "execution_count": 279,
   "id": "dc8a557e",
   "metadata": {},
   "outputs": [],
   "source": [
    "# Sort combinations by their information capacity\n",
    "sorted_info_capacities <- sort(unlist(info_capacities), decreasing = TRUE)"
   ]
  },
  {
   "cell_type": "code",
   "execution_count": 280,
   "id": "41f47712",
   "metadata": {},
   "outputs": [],
   "source": [
    "# Select the best three combinations\n",
    "best_three_combinations <- names(sorted_info_capacities)[1:3]\n",
    "best_three_values <- sorted_info_capacities[1:3]"
   ]
  },
  {
   "cell_type": "code",
   "execution_count": 281,
   "id": "e258dbb0",
   "metadata": {},
   "outputs": [
    {
     "name": "stdout",
     "output_type": "stream",
     "text": [
      "[1] \"AirlineID_Year_FuelPrice_LoadFactor_Output\"\n",
      "[2] \"AirlineID_Year_LoadFactor_Output\"          \n",
      "[3] \"AirlineID_Year_FuelPrice_Output\"           \n",
      "AirlineID_Year_FuelPrice_LoadFactor_Output \n",
      "                                 0.5634423 \n",
      "          AirlineID_Year_LoadFactor_Output \n",
      "                                 0.5049863 \n",
      "           AirlineID_Year_FuelPrice_Output \n",
      "                                 0.5048167 \n"
     ]
    }
   ],
   "source": [
    "# Print the best combinations and their information capacities\n",
    "print(best_three_combinations)\n",
    "print(best_three_values)"
   ]
  },
  {
   "cell_type": "markdown",
   "id": "c36a2c35",
   "metadata": {},
   "source": [
    "### 3.1.3. Building ICA models\n",
    "\n",
    "Based on these results, we created 3 models that included the above combinations of variables:\n",
    "- **model_ICA1**: TotalCost ~ FuelPrice + LoadFactor + Output + AirlineID + Year\n",
    "- **model_ICA2**: TotalCost ~ LoadFactor + Output + AirlineID + Year\n",
    "- **model_ICA3**: TotalCost ~ FuelPrice + Output + AirlineID + Year\n"
   ]
  },
  {
   "cell_type": "code",
   "execution_count": 309,
   "id": "0e1044b9",
   "metadata": {},
   "outputs": [],
   "source": [
    "# Build models using the best combinations of variables\n",
    "model_ICA1 <- lm(TotalCost ~ FuelPrice + LoadFactor + Output + AirlineID + Year, data = data)\n",
    "model_ICA2 <- lm(TotalCost ~ LoadFactor  + Output + AirlineID + Year, data = data)\n",
    "model_ICA3 <- lm(TotalCost ~  FuelPrice + Output + AirlineID + Year, data = data)\n"
   ]
  },
  {
   "cell_type": "code",
   "execution_count": 310,
   "id": "27984f6d",
   "metadata": {},
   "outputs": [
    {
     "data": {
      "text/plain": [
       "\n",
       "Call:\n",
       "lm(formula = TotalCost ~ FuelPrice + LoadFactor + Output + AirlineID + \n",
       "    Year, data = data)\n",
       "\n",
       "Residuals:\n",
       "    Min      1Q  Median      3Q     Max \n",
       "-528938 -218976   25497  182961  826388 \n",
       "\n",
       "Coefficients:\n",
       "              Estimate Std. Error t value Pr(>|t|)    \n",
       "(Intercept)  1.027e+06  6.196e+05   1.658  0.10392    \n",
       "FuelPrice    7.728e-01  3.341e-01   2.313  0.02505 *  \n",
       "LoadFactor  -3.152e+06  1.022e+06  -3.086  0.00337 ** \n",
       "Output       2.114e+06  1.725e+05  12.253  < 2e-16 ***\n",
       "AirlineID    3.915e+04  5.551e+04   0.705  0.48407    \n",
       "Year         2.477e+04  2.834e+04   0.874  0.38632    \n",
       "---\n",
       "Signif. codes:  0 '***' 0.001 '**' 0.01 '*' 0.05 '.' 0.1 ' ' 1\n",
       "\n",
       "Residual standard error: 284800 on 48 degrees of freedom\n",
       "Multiple R-squared:  0.9486,\tAdjusted R-squared:  0.9432 \n",
       "F-statistic: 177.1 on 5 and 48 DF,  p-value: < 2.2e-16\n"
      ]
     },
     "metadata": {},
     "output_type": "display_data"
    },
    {
     "data": {
      "text/plain": [
       "\n",
       "Call:\n",
       "lm(formula = TotalCost ~ LoadFactor + Output + AirlineID + Year, \n",
       "    data = data)\n",
       "\n",
       "Residuals:\n",
       "    Min      1Q  Median      3Q     Max \n",
       "-572733 -244405   30977  193716  669747 \n",
       "\n",
       "Coefficients:\n",
       "            Estimate Std. Error t value Pr(>|t|)    \n",
       "(Intercept)  1214523     641018   1.895 0.064044 .  \n",
       "LoadFactor  -3695129    1037350  -3.562 0.000831 ***\n",
       "Output       2120551     180002  11.781 6.64e-16 ***\n",
       "AirlineID      42291      57901   0.730 0.468620    \n",
       "Year           83161      13436   6.189 1.20e-07 ***\n",
       "---\n",
       "Signif. codes:  0 '***' 0.001 '**' 0.01 '*' 0.05 '.' 0.1 ' ' 1\n",
       "\n",
       "Residual standard error: 297200 on 49 degrees of freedom\n",
       "Multiple R-squared:  0.9429,\tAdjusted R-squared:  0.9382 \n",
       "F-statistic: 202.1 on 4 and 49 DF,  p-value: < 2.2e-16\n"
      ]
     },
     "metadata": {},
     "output_type": "display_data"
    },
    {
     "data": {
      "text/plain": [
       "\n",
       "Call:\n",
       "lm(formula = TotalCost ~ FuelPrice + Output + AirlineID + Year, \n",
       "    data = data)\n",
       "\n",
       "Residuals:\n",
       "    Min      1Q  Median      3Q     Max \n",
       "-469372 -196880    4387  179976 1174745 \n",
       "\n",
       "Coefficients:\n",
       "              Estimate Std. Error t value Pr(>|t|)    \n",
       "(Intercept) -7.188e+05  2.737e+05  -2.626  0.01150 *  \n",
       "FuelPrice    1.010e+00  3.523e-01   2.866  0.00611 ** \n",
       "Output       2.140e+06  1.867e+05  11.464 1.78e-15 ***\n",
       "AirlineID    8.692e+04  5.775e+04   1.505  0.13873    \n",
       "Year        -1.496e+04  2.735e+04  -0.547  0.58695    \n",
       "---\n",
       "Signif. codes:  0 '***' 0.001 '**' 0.01 '*' 0.05 '.' 0.1 ' ' 1\n",
       "\n",
       "Residual standard error: 308500 on 49 degrees of freedom\n",
       "Multiple R-squared:  0.9384,\tAdjusted R-squared:  0.9334 \n",
       "F-statistic: 186.6 on 4 and 49 DF,  p-value: < 2.2e-16\n"
      ]
     },
     "metadata": {},
     "output_type": "display_data"
    }
   ],
   "source": [
    "# Display summary statistics for each model\n",
    "summary(model_ICA1)\n",
    "summary(model_ICA2)\n",
    "summary(model_ICA3)"
   ]
  },
  {
   "cell_type": "markdown",
   "id": "06771c4d",
   "metadata": {},
   "source": [
    "## 3.2. Correlation Coefficient Analysis Method\n",
    "\n",
    "The method was carried out in 3 steps:\n",
    "\n",
    "1. Elimination of variables that have a correlation coefficient with the dependent variable less than or equal to __r*__.\n",
    "2. Selection of the variable with the highest absolute value of the correlation coefficient with the dependent variable.\n",
    "3. Elimination of variables that have a high correlation with the selected variable.\n",
    "\n",
    "The method was applied twice, with __r*__ calculated as follows:\n",
    "\n",
    "- The first time, \\( r^* \\) was calculated using the following formula:\n",
    "\n",
    "$$\n",
    "r^* = \\sqrt{\\frac{t_{\\alpha/2}^2}{t_{\\alpha/2}^2 + n - 2}}\n",
    "$$\n",
    "\n",
    "  where:\n",
    "\n",
    "  \\begin{align*}\n",
    "  &\\bullet \\, t_{\\alpha/2} \\text{ is the critical value of the Student's t-distribution for the significance level } \\alpha \\text{ and } n - 2 \\text{ degrees of freedom}.\n",
    "  \\end{align*}\n",
    "\n",
    "- The second time, __r*__ was equal to the smallest absolute value from the __R_0__ vector.\n"
   ]
  },
  {
   "cell_type": "markdown",
   "id": "85a8a92c",
   "metadata": {},
   "source": [
    "### 3.2.1. __r_*__ first method"
   ]
  },
  {
   "cell_type": "code",
   "execution_count": 311,
   "id": "2686ed83",
   "metadata": {},
   "outputs": [],
   "source": [
    "# Determine critical value for correlation\n",
    "n <- 72  \n",
    "alpha <- 0.05\n",
    "t_critical <- qt(1 - alpha/2, df = n - 2)\n",
    "r_star <- sqrt(t_critical^2 / (t_critical^2 + n - 2))"
   ]
  },
  {
   "cell_type": "code",
   "execution_count": 312,
   "id": "489630a2",
   "metadata": {},
   "outputs": [
    {
     "data": {
      "text/html": [
       "'Output'"
      ],
      "text/latex": [
       "'Output'"
      ],
      "text/markdown": [
       "'Output'"
      ],
      "text/plain": [
       "[1] \"Output\""
      ]
     },
     "metadata": {},
     "output_type": "display_data"
    }
   ],
   "source": [
    "# Filter variables based on the critical correlation value\n",
    "dependent_var <- \"TotalCost\"\n",
    "\n",
    "vars_to_consider <- variables[abs(cor_matrix[dependent_var, variables]) > r_star]\n",
    "variable_with_max_cor <- variables[which.max(abs(cor_matrix[dependent_var, vars_to_consider]))]\n",
    "variable_with_max_cor"
   ]
  },
  {
   "cell_type": "code",
   "execution_count": 313,
   "id": "e7c29055",
   "metadata": {},
   "outputs": [
    {
     "data": {
      "text/html": [
       "'FuelPrice'"
      ],
      "text/latex": [
       "'FuelPrice'"
      ],
      "text/markdown": [
       "'FuelPrice'"
      ],
      "text/plain": [
       "[1] \"FuelPrice\""
      ]
     },
     "metadata": {},
     "output_type": "display_data"
    }
   ],
   "source": [
    "# Eliminate variables with high correlation to the selected variable\n",
    "remaining_vars <- vars_to_consider[!sapply(vars_to_consider, function(var) {\n",
    "  abs(cor_matrix[variable_with_max_cor, var]) > r_star\n",
    "})]\n",
    "remaining_vars"
   ]
  },
  {
   "cell_type": "code",
   "execution_count": 314,
   "id": "992fe27a",
   "metadata": {},
   "outputs": [
    {
     "data": {
      "text/html": [
       "<style>\n",
       ".list-inline {list-style: none; margin:0; padding: 0}\n",
       ".list-inline>li {display: inline-block}\n",
       ".list-inline>li:not(:last-child)::after {content: \"\\00b7\"; padding: 0 .5ex}\n",
       "</style>\n",
       "<ol class=list-inline><li>'Output'</li><li>'FuelPrice'</li></ol>\n"
      ],
      "text/latex": [
       "\\begin{enumerate*}\n",
       "\\item 'Output'\n",
       "\\item 'FuelPrice'\n",
       "\\end{enumerate*}\n"
      ],
      "text/markdown": [
       "1. 'Output'\n",
       "2. 'FuelPrice'\n",
       "\n",
       "\n"
      ],
      "text/plain": [
       "[1] \"Output\"    \"FuelPrice\""
      ]
     },
     "metadata": {},
     "output_type": "display_data"
    }
   ],
   "source": [
    "# Final set of variables to include in the model\n",
    "final_variables <- c(variable_with_max_cor, remaining_vars)\n",
    "final_variables"
   ]
  },
  {
   "cell_type": "markdown",
   "id": "8d230b05",
   "metadata": {},
   "source": [
    "### 3.2.1. Model 'model_corr1'"
   ]
  },
  {
   "cell_type": "code",
   "execution_count": 315,
   "id": "9bd97dd9",
   "metadata": {},
   "outputs": [
    {
     "data": {
      "text/plain": [
       "\n",
       "Call:\n",
       "lm(formula = TotalCost ~ Output + FuelPrice, data = data)\n",
       "\n",
       "Residuals:\n",
       "    Min      1Q  Median      3Q     Max \n",
       "-493084 -228714   -3062  220506 1180775 \n",
       "\n",
       "Coefficients:\n",
       "              Estimate Std. Error t value Pr(>|t|)    \n",
       "(Intercept) -3.537e+05  8.046e+04  -4.396 5.61e-05 ***\n",
       "Output       1.880e+06  7.869e+04  23.890  < 2e-16 ***\n",
       "FuelPrice    9.373e-01  1.311e-01   7.150 3.16e-09 ***\n",
       "---\n",
       "Signif. codes:  0 '***' 0.001 '**' 0.01 '*' 0.05 '.' 0.1 ' ' 1\n",
       "\n",
       "Residual standard error: 309800 on 51 degrees of freedom\n",
       "Multiple R-squared:  0.9354,\tAdjusted R-squared:  0.9328 \n",
       "F-statistic:   369 on 2 and 51 DF,  p-value: < 2.2e-16\n"
      ]
     },
     "metadata": {},
     "output_type": "display_data"
    }
   ],
   "source": [
    "# Build a model using the final variables\n",
    "model_corr1 <-lm(TotalCost ~ Output + FuelPrice, data = data)\n",
    "summary(model_corr1)"
   ]
  },
  {
   "cell_type": "markdown",
   "id": "49e238bb",
   "metadata": {},
   "source": [
    "### 3.2.2. __r_*__ second method"
   ]
  },
  {
   "cell_type": "code",
   "execution_count": 316,
   "id": "4d540c2f",
   "metadata": {},
   "outputs": [],
   "source": [
    "# Calculate information capacity for a different critical correlation value\n",
    "r_star1 <- 0.460462036609943\n",
    "vars_to_consider1 <- variables[abs(cor_matrix[dependent_var, variables]) > r_star1]\n",
    "variable_with_max_cor1 <- vars_to_consider1[which.max(abs(cor_matrix[dependent_var, vars_to_consider1]))]\n",
    "remaining_vars1 <- vars_to_consider1[!sapply(vars_to_consider1, function(var) {\n",
    "  abs(cor_matrix[variable_with_max_cor1, var]) > r_star1\n",
    "})]"
   ]
  },
  {
   "cell_type": "code",
   "execution_count": 317,
   "id": "55e7abae",
   "metadata": {},
   "outputs": [
    {
     "data": {
      "text/html": [
       "<style>\n",
       ".list-inline {list-style: none; margin:0; padding: 0}\n",
       ".list-inline>li {display: inline-block}\n",
       ".list-inline>li:not(:last-child)::after {content: \"\\00b7\"; padding: 0 .5ex}\n",
       "</style>\n",
       "<ol class=list-inline><li>'Output'</li><li>'Year'</li><li>'FuelPrice'</li></ol>\n"
      ],
      "text/latex": [
       "\\begin{enumerate*}\n",
       "\\item 'Output'\n",
       "\\item 'Year'\n",
       "\\item 'FuelPrice'\n",
       "\\end{enumerate*}\n"
      ],
      "text/markdown": [
       "1. 'Output'\n",
       "2. 'Year'\n",
       "3. 'FuelPrice'\n",
       "\n",
       "\n"
      ],
      "text/plain": [
       "[1] \"Output\"    \"Year\"      \"FuelPrice\""
      ]
     },
     "metadata": {},
     "output_type": "display_data"
    }
   ],
   "source": [
    "# Final set of variables to include in the model (alternative)\n",
    "final_variables1 <- c(variable_with_max_cor1, remaining_vars1)\n",
    "final_variables1"
   ]
  },
  {
   "cell_type": "markdown",
   "id": "8f4234af",
   "metadata": {},
   "source": [
    "### 3.2.2. Model 'model_corr2'"
   ]
  },
  {
   "cell_type": "code",
   "execution_count": 318,
   "id": "e7d428a2",
   "metadata": {},
   "outputs": [
    {
     "data": {
      "text/plain": [
       "\n",
       "Call:\n",
       "lm(formula = TotalCost ~ Output + Year + FuelPrice, data = data)\n",
       "\n",
       "Residuals:\n",
       "    Min      1Q  Median      3Q     Max \n",
       "-503965 -227745  -18135  210953 1203507 \n",
       "\n",
       "Coefficients:\n",
       "              Estimate Std. Error t value Pr(>|t|)    \n",
       "(Intercept) -3.333e+05  9.784e+04  -3.407  0.00130 ** \n",
       "Output       1.887e+06  8.158e+04  23.129  < 2e-16 ***\n",
       "Year        -1.025e+04  2.751e+04  -0.373  0.71109    \n",
       "FuelPrice    1.060e+00  3.551e-01   2.985  0.00438 ** \n",
       "---\n",
       "Signif. codes:  0 '***' 0.001 '**' 0.01 '*' 0.05 '.' 0.1 ' ' 1\n",
       "\n",
       "Residual standard error: 312400 on 50 degrees of freedom\n",
       "Multiple R-squared:  0.9355,\tAdjusted R-squared:  0.9317 \n",
       "F-statistic: 241.9 on 3 and 50 DF,  p-value: < 2.2e-16\n"
      ]
     },
     "metadata": {},
     "output_type": "display_data"
    }
   ],
   "source": [
    "# Build another model using the alternative set of variables\n",
    "model_corr2 <-lm(TotalCost ~  Output + Year + FuelPrice , data = data)\n",
    "summary(model_corr2)"
   ]
  },
  {
   "cell_type": "markdown",
   "id": "0c75c3e6",
   "metadata": {},
   "source": [
    "# 4. Residual Analysis\n",
    "\n",
    "\n"
   ]
  },
  {
   "cell_type": "markdown",
   "id": "2aa2c4b1",
   "metadata": {},
   "source": [
    "## 4.1. Residual plots\n",
    "Residual plots were created for the five resulting models."
   ]
  },
  {
   "cell_type": "code",
   "execution_count": 319,
   "id": "575808a6",
   "metadata": {},
   "outputs": [
    {
     "data": {
      "image/png": "[encoded data removed]",
      "text/plain": [
       "Plot with title \"Model Corr2\""
      ]
     },
     "metadata": {
      "image/png": {
       "height": 420,
       "width": 420
      }
     },
     "output_type": "display_data"
    }
   ],
   "source": [
    "# Plot residuals for all models\n",
    "par(mfrow=c(3, 2))  # Set up plot layout\n",
    "plot(model_ICA1$residuals ~ model_ICA1$fitted.values, main=\"Model ICA1\")\n",
    "plot(model_ICA2$residuals ~ model_ICA2$fitted.values, main=\"Model ICA2\")\n",
    "plot(model_ICA3$residuals ~ model_ICA3$fitted.values, main=\"Model ICA3\")\n",
    "plot(model_corr1$residuals ~ model_corr1$fitted.values, main=\"Model Corr1\")\n",
    "plot(model_corr2$residuals ~ model_corr2$fitted.values, main=\"Model Corr2\")\n"
   ]
  },
  {
   "cell_type": "markdown",
   "id": "ff96ad23",
   "metadata": {},
   "source": [
    "For an ideal regression model, the residuals should be randomly distributed around zero, with no visible pattern or structure. However, in none of the plots do we observe randomly distributed residuals; outliers are also apparent. The models created using the correlation coefficient analysis method have more dispersed residuals, but they also exhibit more significant outliers.\n"
   ]
  },
  {
   "cell_type": "markdown",
   "id": "3575012f",
   "metadata": {},
   "source": [
    "# 5.Data Transformation\n",
    "\n",
    "To create a model with randomly distributed residuals, the decision was made to transform the `TotalCost` variable. Two transformations were applied:\n",
    "- Logarithm transformation\n",
    "- Square root transformation\n",
    "\n",
    "As a result, two additional models were created:\n",
    "- **model_ICA1_log**\n",
    "- **model_ICA1_sqrt**\n"
   ]
  },
  {
   "cell_type": "code",
   "execution_count": 320,
   "id": "23ec9b80",
   "metadata": {},
   "outputs": [],
   "source": [
    "# Apply data transformations for model improvement\n",
    "data$log_TotalCost <- log(data$TotalCost)\n",
    "data$sqrt_TotalCost <- sqrt(data$TotalCost)"
   ]
  },
  {
   "cell_type": "markdown",
   "id": "ae39628b",
   "metadata": {},
   "source": [
    "### 5.1. Building models 'model_ICA1_log' and 'model_ICA1_sqrt'"
   ]
  },
  {
   "cell_type": "code",
   "execution_count": 321,
   "id": "6174f592",
   "metadata": {},
   "outputs": [],
   "source": [
    "# Build models with transformed data\n",
    "model_ICA1_log <- lm(log_TotalCost ~ FuelPrice + LoadFactor + Output + AirlineID + Year, data = data)\n",
    "model_ICA1_sqrt <- lm(sqrt_TotalCost ~ FuelPrice + LoadFactor + Output + AirlineID + Year, data = data)\n"
   ]
  },
  {
   "cell_type": "code",
   "execution_count": 322,
   "id": "4326b7df",
   "metadata": {},
   "outputs": [
    {
     "data": {
      "text/plain": [
       "\n",
       "Call:\n",
       "lm(formula = log_TotalCost ~ FuelPrice + LoadFactor + Output + \n",
       "    AirlineID + Year, data = data)\n",
       "\n",
       "Residuals:\n",
       "     Min       1Q   Median       3Q      Max \n",
       "-0.54760 -0.16795  0.04161  0.17565  0.47807 \n",
       "\n",
       "Coefficients:\n",
       "              Estimate Std. Error t value Pr(>|t|)    \n",
       "(Intercept)  1.394e+01  5.521e-01  25.253  < 2e-16 ***\n",
       "FuelPrice    1.726e-07  2.977e-07   0.580  0.56475    \n",
       "LoadFactor  -1.282e+00  9.102e-01  -1.409  0.16526    \n",
       "Output       5.327e-01  1.537e-01   3.465  0.00113 ** \n",
       "AirlineID   -3.781e-01  4.946e-02  -7.645 7.60e-10 ***\n",
       "Year         1.362e-01  2.525e-02   5.396 2.07e-06 ***\n",
       "---\n",
       "Signif. codes:  0 '***' 0.001 '**' 0.01 '*' 0.05 '.' 0.1 ' ' 1\n",
       "\n",
       "Residual standard error: 0.2537 on 48 degrees of freedom\n",
       "Multiple R-squared:  0.9571,\tAdjusted R-squared:  0.9526 \n",
       "F-statistic: 214.2 on 5 and 48 DF,  p-value: < 2.2e-16\n"
      ]
     },
     "metadata": {},
     "output_type": "display_data"
    },
    {
     "data": {
      "text/plain": [
       "\n",
       "Call:\n",
       "lm(formula = sqrt_TotalCost ~ FuelPrice + LoadFactor + Output + \n",
       "    AirlineID + Year, data = data)\n",
       "\n",
       "Residuals:\n",
       "     Min       1Q   Median       3Q      Max \n",
       "-143.424  -43.050   -3.096   40.731  133.785 \n",
       "\n",
       "Coefficients:\n",
       "              Estimate Std. Error t value Pr(>|t|)    \n",
       "(Intercept)  1.038e+03  1.468e+02   7.069 5.75e-09 ***\n",
       "FuelPrice    2.027e-04  7.917e-05   2.560   0.0137 *  \n",
       "LoadFactor  -1.098e+03  2.420e+02  -4.537 3.82e-05 ***\n",
       "Output       6.565e+02  4.088e+01  16.059  < 2e-16 ***\n",
       "AirlineID   -6.399e+01  1.315e+01  -4.865 1.27e-05 ***\n",
       "Year         3.454e+01  6.714e+00   5.144 4.93e-06 ***\n",
       "---\n",
       "Signif. codes:  0 '***' 0.001 '**' 0.01 '*' 0.05 '.' 0.1 ' ' 1\n",
       "\n",
       "Residual standard error: 67.48 on 48 degrees of freedom\n",
       "Multiple R-squared:  0.9848,\tAdjusted R-squared:  0.9832 \n",
       "F-statistic: 621.7 on 5 and 48 DF,  p-value: < 2.2e-16\n"
      ]
     },
     "metadata": {},
     "output_type": "display_data"
    }
   ],
   "source": [
    "summary(model_ICA1_log)\n",
    "summary(model_ICA1_sqrt)"
   ]
  },
  {
   "cell_type": "markdown",
   "id": "84854b10",
   "metadata": {},
   "source": [
    "### 5.2. Residual analysis for new models"
   ]
  },
  {
   "cell_type": "code",
   "execution_count": 323,
   "id": "dd6f4d3b",
   "metadata": {},
   "outputs": [
    {
     "data": {
      "image/png": "[encoded data removed]",
      "text/plain": [
       "Plot with title \"Sqrt Transform Model\""
      ]
     },
     "metadata": {
      "image/png": {
       "height": 420,
       "width": 420
      }
     },
     "output_type": "display_data"
    }
   ],
   "source": [
    "# Plot residuals for the models with transformed data\n",
    "par(mfrow=c(2, 2))\n",
    "plot(model_ICA1_log$residuals ~ model_ICA1_log$fitted.values, main=\"Log Transform Model\")\n",
    "plot(model_ICA1_sqrt$residuals ~ model_ICA1_sqrt$fitted.values, main=\"Sqrt Transform Model\")\n"
   ]
  },
  {
   "cell_type": "markdown",
   "id": "4bbd9b2f",
   "metadata": {},
   "source": [
    "The residual analysis of these models showed that the square root transformation, in particular, yielded good results.\n"
   ]
  },
  {
   "cell_type": "markdown",
   "id": "7f47db1b",
   "metadata": {},
   "source": [
    "### 5.3. Building new models\n",
    "Next, four additional models were created, this time for the square root transformed `TotalCost` variable:\n",
    "- **model_ICA2_sqrt**\n",
    "- **model_ICA3_sqrt**\n",
    "- **model_corr1_sqrt**\n",
    "- **model_corr2_sqrt**\n"
   ]
  },
  {
   "cell_type": "code",
   "execution_count": 324,
   "id": "609d167b",
   "metadata": {},
   "outputs": [],
   "source": [
    "# Additional models with square root transformation\n",
    "model_ICA2_sqrt <- lm(sqrt_TotalCost ~ LoadFactor  + Output + AirlineID + Year, data = data)\n",
    "model_ICA3_sqrt <- lm(sqrt_TotalCost ~ FuelPrice + Output + AirlineID + Year, data = data)\n",
    "model_corr1_sqrt <- lm(sqrt_TotalCost ~ Output + FuelPrice, data = data)\n",
    "model_corr2_sqrt <- lm(sqrt_TotalCost ~ Output + Year + FuelPrice, data = data)\n"
   ]
  },
  {
   "cell_type": "markdown",
   "id": "20bcc135",
   "metadata": {},
   "source": [
    "# 6. Model Selection\n"
   ]
  },
  {
   "cell_type": "code",
   "execution_count": 325,
   "id": "bd015011",
   "metadata": {},
   "outputs": [
    {
     "data": {
      "text/plain": [
       "\n",
       "\n",
       "Table: Model Comparison: Adjusted R-squared, AIC, and BIC\n",
       "\n",
       "|                 |Model            |    Adj_R2|        AIC|        BIC|\n",
       "|:----------------|:----------------|---------:|----------:|----------:|\n",
       "|model_ICA1       |model_ICA1       | 0.9432322| 1517.30756| 1531.23045|\n",
       "|model_ICA2       |model_ICA2       | 0.9381925| 1521.01399| 1532.94789|\n",
       "|model_ICA3       |model_ICA3       | 0.9333603| 1525.07893| 1537.01284|\n",
       "|model_corr1      |model_corr1      | 0.9328278| 1523.66894| 1531.62488|\n",
       "|model_corr2      |model_corr2      | 0.9316740| 1525.51929| 1535.46421|\n",
       "|model_ICA1_sqrt  |model_ICA1_sqrt  | 0.9832099|  615.75692|  629.67981|\n",
       "|model_ICA2_sqrt  |model_ICA2_sqrt  | 0.9813067|  620.66870|  632.60260|\n",
       "|model_ICA3_sqrt  |model_ICA3_sqrt  | 0.9764992|  633.02744|  644.96134|\n",
       "|model_corr1_sqrt |model_corr1_sqrt | 0.9697295|  644.85736|  652.81329|\n",
       "|model_corr2_sqrt |model_corr2_sqrt | 0.9722514|  641.09068|  651.03560|\n",
       "|model_ICA1_log   |model_ICA1_log   | 0.9526266|   12.76886|   26.69174|"
      ]
     },
     "metadata": {},
     "output_type": "display_data"
    }
   ],
   "source": [
    "# Calculate adjusted R-squared, AIC, and BIC for each model\n",
    "models <- list(\n",
    "  model_ICA1 = model_ICA1,\n",
    "  model_ICA2 = model_ICA2,\n",
    "  model_ICA3 = model_ICA3,\n",
    "  model_corr1 = model_corr1,\n",
    "  model_corr2 = model_corr2,\n",
    "  model_ICA1_sqrt = model_ICA1_sqrt,\n",
    "  model_ICA2_sqrt = model_ICA2_sqrt,\n",
    "  model_ICA3_sqrt = model_ICA3_sqrt,\n",
    "  model_corr1_sqrt = model_corr1_sqrt,\n",
    "  model_corr2_sqrt = model_corr2_sqrt,\n",
    "  model_ICA1_log = model_ICA1_log\n",
    ")\n",
    "\n",
    "# Create a data frame to store the results\n",
    "model_comparison <- data.frame(\n",
    "  Model = names(models),\n",
    "  Adj_R2 = sapply(models, function(model) summary(model)$adj.r.squared),\n",
    "  AIC = sapply(models, AIC),\n",
    "  BIC = sapply(models, BIC)\n",
    ")\n",
    "\n",
    "# Print the results in a nicely formatted table\n",
    "library(knitr)\n",
    "kable(model_comparison, caption = \"Model Comparison: Adjusted R-squared, AIC, and BIC\")\n"
   ]
  },
  {
   "cell_type": "markdown",
   "id": "96f62f0e",
   "metadata": {},
   "source": [
    "### Best model - **model_ICA1_sqrt**\n",
    "The **model_ICA1_sqrt** was selected as the best model based on the above parameters (highest adjusted R-squared value (0.983) and the lowest AIC (615.8) and BIC (629.7) values).\n"
   ]
  },
  {
   "cell_type": "code",
   "execution_count": 326,
   "id": "ffe3b84e",
   "metadata": {},
   "outputs": [
    {
     "data": {
      "image/png": "[encoded data removed]",
      "text/plain": [
       "Plot with title \"Model Corr2 sqrt\""
      ]
     },
     "metadata": {
      "image/png": {
       "height": 420,
       "width": 420
      }
     },
     "output_type": "display_data"
    }
   ],
   "source": [
    "# Plot residuals for each model\n",
    "par(mfrow=c(3, 2))  # Set up the layout for 3x2 plots\n",
    "plot(model_ICA1$residuals ~ model_ICA1$fitted.values, main=\"Model ICA1\")\n",
    "plot(model_ICA1_sqrt$residuals ~ model_ICA1_sqrt$fitted.values, main=\"Model ICA1 sqrt\")\n",
    "plot(model_ICA3$residuals ~ model_ICA3$fitted.values, main=\"Model ICA3\")\n",
    "plot(model_ICA3_sqrt$residuals ~ model_ICA3_sqrt$fitted.values, main=\"Model ICA3 sqrt\")\n",
    "plot(model_corr2_sqrt$residuals ~ model_corr2_sqrt$fitted.values, main=\"Model Corr2 sqrt\")\n"
   ]
  },
  {
   "cell_type": "markdown",
   "id": "679f908e",
   "metadata": {},
   "source": [
    "# 7. Model Verification\n",
    "\n",
    "The model verification was conducted in 5 steps:\n",
    "* Normality\n",
    "* Randomness of residuals\n",
    "* Autocorrelation\n",
    "* Symmetry\n",
    "* Homoscedasticity\n"
   ]
  },
  {
   "cell_type": "code",
   "execution_count": 327,
   "id": "7d165921",
   "metadata": {},
   "outputs": [
    {
     "data": {
      "text/plain": [
       "\n",
       "Call:\n",
       "lm(formula = sqrt_TotalCost ~ FuelPrice + LoadFactor + Output + \n",
       "    AirlineID + Year, data = data)\n",
       "\n",
       "Residuals:\n",
       "     Min       1Q   Median       3Q      Max \n",
       "-143.424  -43.050   -3.096   40.731  133.785 \n",
       "\n",
       "Coefficients:\n",
       "              Estimate Std. Error t value Pr(>|t|)    \n",
       "(Intercept)  1.038e+03  1.468e+02   7.069 5.75e-09 ***\n",
       "FuelPrice    2.027e-04  7.917e-05   2.560   0.0137 *  \n",
       "LoadFactor  -1.098e+03  2.420e+02  -4.537 3.82e-05 ***\n",
       "Output       6.565e+02  4.088e+01  16.059  < 2e-16 ***\n",
       "AirlineID   -6.399e+01  1.315e+01  -4.865 1.27e-05 ***\n",
       "Year         3.454e+01  6.714e+00   5.144 4.93e-06 ***\n",
       "---\n",
       "Signif. codes:  0 '***' 0.001 '**' 0.01 '*' 0.05 '.' 0.1 ' ' 1\n",
       "\n",
       "Residual standard error: 67.48 on 48 degrees of freedom\n",
       "Multiple R-squared:  0.9848,\tAdjusted R-squared:  0.9832 \n",
       "F-statistic: 621.7 on 5 and 48 DF,  p-value: < 2.2e-16\n"
      ]
     },
     "metadata": {},
     "output_type": "display_data"
    }
   ],
   "source": [
    "# Select the model for further analysis\n",
    "model <- model_ICA1_sqrt\n",
    "summary(model)"
   ]
  },
  {
   "cell_type": "markdown",
   "id": "cf5fd164",
   "metadata": {},
   "source": [
    "## 7.1. Normality\n",
    "\n",
    "The Shapiro-Wilk test was conducted to assess the normality of the residuals.\n"
   ]
  },
  {
   "cell_type": "code",
   "execution_count": 328,
   "id": "a1f75056",
   "metadata": {},
   "outputs": [
    {
     "name": "stdout",
     "output_type": "stream",
     "text": [
      "\n",
      "\tShapiro-Wilk normality test\n",
      "\n",
      "data:  residuals(model)\n",
      "W = 0.9867, p-value = 0.8092\n",
      "\n"
     ]
    }
   ],
   "source": [
    "# Shapiro-Wilk test for normality of residuals\n",
    "shapiro_test <- shapiro.test(residuals(model))\n",
    "print(shapiro_test)"
   ]
  },
  {
   "cell_type": "markdown",
   "id": "5043da7d",
   "metadata": {},
   "source": [
    "A high value of the W statistic, along with a p-value above the 0.05 threshold, does not provide sufficient evidence to reject the null hypothesis (H0) of normality.\n"
   ]
  },
  {
   "cell_type": "markdown",
   "id": "7cce196e",
   "metadata": {},
   "source": [
    "## 7.2. Randomness of Residuals\n",
    "\n",
    "The runs test was conducted to assess the randomness of the residuals.\n"
   ]
  },
  {
   "cell_type": "code",
   "execution_count": 329,
   "id": "7179f29e",
   "metadata": {
    "scrolled": true
   },
   "outputs": [
    {
     "name": "stdout",
     "output_type": "stream",
     "text": [
      "\n",
      "\tRuns Test\n",
      "\n",
      "data:  residuals_factor\n",
      "Standard Normal = -0.54012, p-value = 0.5891\n",
      "alternative hypothesis: two.sided\n",
      "\n"
     ]
    }
   ],
   "source": [
    "# Randomness of residuals - Runs test\n",
    "residuals_factor <- factor(ifelse(residuals(model) > 0, \"TRUE\", \"FALSE\"))\n",
    "runs_test <- runs.test(residuals_factor)\n",
    "print(runs_test)"
   ]
  },
  {
   "cell_type": "markdown",
   "id": "75d4c481",
   "metadata": {},
   "source": [
    " Based on this test, there is no evidence to suggest that the residuals from the model are random."
   ]
  },
  {
   "cell_type": "markdown",
   "id": "5c816e5f",
   "metadata": {},
   "source": [
    "## 7.3. Autocorrelation\n",
    "\n",
    "The Durbin-Watson test was conducted to check for autocorrelation in the residuals."
   ]
  },
  {
   "cell_type": "code",
   "execution_count": 330,
   "id": "9241c3d5",
   "metadata": {},
   "outputs": [
    {
     "name": "stdout",
     "output_type": "stream",
     "text": [
      "Durbin-Watson test p-value: 0.2343706 \n"
     ]
    }
   ],
   "source": [
    "#  Durbin-Watson test for autocorrelation of residuals\n",
    "dw_test <- dwtest(model)\n",
    "cat(\"Durbin-Watson test p-value:\", dw_test$p.value, \"\\n\")"
   ]
  },
  {
   "cell_type": "markdown",
   "id": "5edc2882",
   "metadata": {},
   "source": [
    "Based on the Durbin-Watson test, there is no statistically significant evidence of first-order autocorrelation in the model's residuals."
   ]
  },
  {
   "cell_type": "markdown",
   "id": "76417e55",
   "metadata": {},
   "source": [
    "## 7.4 Symmetry\n",
    "\n",
    "The symmetry of the residuals was examined."
   ]
  },
  {
   "cell_type": "code",
   "execution_count": 331,
   "id": "b7b0c336",
   "metadata": {},
   "outputs": [
    {
     "name": "stdout",
     "output_type": "stream",
     "text": [
      "Skewness of residuals: 0.06559736 \n"
     ]
    },
    {
     "data": {
      "image/png": "[encoded data removed]",
      "text/plain": [
       "Plot with title \"Histogram of Residuals\""
      ]
     },
     "metadata": {
      "image/png": {
       "height": 420,
       "width": 420
      }
     },
     "output_type": "display_data"
    }
   ],
   "source": [
    "# Check for skewness (symmetry of residuals)\n",
    "hist(residuals(model), main=\"Histogram of Residuals\", xlab=\"Residuals\")\n",
    "skewness_res <- skewness(residuals(model))\n",
    "cat(\"Skewness of residuals:\", skewness_res, \"\\n\")"
   ]
  },
  {
   "cell_type": "markdown",
   "id": "edc4e0d5",
   "metadata": {},
   "source": [
    "\n",
    "\n",
    "The skewness of the residuals was calculated to be 0.0656, indicating that the residuals are nearly symmetric. The histogram of residuals also supports this conclusion, showing a fairly symmetric distribution around zero.\n"
   ]
  },
  {
   "cell_type": "markdown",
   "id": "e57180a6",
   "metadata": {},
   "source": [
    "## 7.5 Homoscedasticity\n",
    "\n",
    "The Spearman rank correlation test was conducted to check for the presence of homoscedasticity.\n"
   ]
  },
  {
   "cell_type": "code",
   "execution_count": 332,
   "id": "9c851712",
   "metadata": {},
   "outputs": [
    {
     "name": "stdout",
     "output_type": "stream",
     "text": [
      "\n",
      "\tSpearman's rank correlation rho\n",
      "\n",
      "data:  fitted(model) and residuals(model)\n",
      "S = 27530, p-value = 0.7223\n",
      "alternative hypothesis: true rho is not equal to 0\n",
      "sample estimates:\n",
      "        rho \n",
      "-0.04936154 \n",
      "\n"
     ]
    }
   ],
   "source": [
    "# Check for homoscedasticity using Spearman's rank correlation\n",
    "spearman_test <- cor.test(fitted(model), residuals(model), method = \"spearman\")\n",
    "print(spearman_test)"
   ]
  },
  {
   "cell_type": "markdown",
   "id": "a2cedd00",
   "metadata": {},
   "source": [
    "The results of the Spearman rank correlation test indicate that there is no statistically significant correlation between the fitted values and the residuals in the model. This is a positive outcome, as it suggests that the residuals are independent of the predicted values."
   ]
  },
  {
   "cell_type": "markdown",
   "id": "e369457f",
   "metadata": {},
   "source": [
    "# 8. Prediction"
   ]
  },
  {
   "cell_type": "code",
   "execution_count": 333,
   "id": "f3f6abec",
   "metadata": {},
   "outputs": [],
   "source": [
    "# Make predictions on the test set\n",
    "predictions <- predict(model, newdata = test_df)"
   ]
  },
  {
   "cell_type": "code",
   "execution_count": 334,
   "id": "27bbb454",
   "metadata": {},
   "outputs": [
    {
     "name": "stdout",
     "output_type": "stream",
     "text": [
      "        Real Predicted\n",
      "8  1521.4335 1571.3235\n",
      "15 2179.0640 2243.1960\n",
      "5  1294.8861 1298.9599\n",
      "22 1225.2959 1205.7292\n",
      "28 1928.1442 1795.0136\n",
      "16  754.5144  768.3254\n",
      "43 1046.9336 1150.5688\n",
      "34  612.0417  588.1449\n",
      "38  818.1265  858.2997\n",
      "56  938.3166  830.9307\n",
      "51  611.5072  565.4220\n",
      "59 1141.6611 1034.9099\n",
      "70  597.4236  612.7071\n",
      "68  458.4888  489.0146\n",
      "69  523.4730  494.3132\n",
      "82  380.8701  438.3821\n",
      "81  364.9123  414.1537\n",
      "84  446.9620  488.1536\n"
     ]
    }
   ],
   "source": [
    "# Compare predictions with actual values\n",
    "comparison <- data.frame(Real = test_df$sqrt_TotalCost, Predicted = predictions)\n",
    "print(comparison)"
   ]
  },
  {
   "cell_type": "markdown",
   "id": "fbb18c31",
   "metadata": {},
   "source": [
    "### RMSE and MAPE\n",
    "\n",
    "To more accurately assess the model's fit quality, the RMSE (Root Mean Square Error) and MAPE (Mean Absolute Percentage Error) were calculated."
   ]
  },
  {
   "cell_type": "code",
   "execution_count": 335,
   "id": "46a14529",
   "metadata": {},
   "outputs": [
    {
     "name": "stdout",
     "output_type": "stream",
     "text": [
      "RMSE: 63.3935 \n"
     ]
    }
   ],
   "source": [
    "# Calculate RMSE (Root Mean Square Error)\n",
    "rmse <- sqrt(mean((comparison$Real - comparison$Predicted)^2))\n",
    "cat(\"RMSE:\", rmse, \"\\n\")"
   ]
  },
  {
   "cell_type": "code",
   "execution_count": 336,
   "id": "1aedbea0",
   "metadata": {},
   "outputs": [
    {
     "name": "stdout",
     "output_type": "stream",
     "text": [
      "MAPE: 6.472811 %\n"
     ]
    }
   ],
   "source": [
    "# Calculate MAPE (Mean Absolute Percentage Error)\n",
    "mape <- mean(abs((comparison$Real - comparison$Predicted) / comparison$Real)) * 100\n",
    "cat(\"MAPE:\", mape, \"%\\n\")"
   ]
  },
  {
   "cell_type": "markdown",
   "id": "aed9ce42",
   "metadata": {},
   "source": [
    "The RMSE of 63.3935 suggests a moderate level of prediction error, which should be evaluated in the context of the scale of the dependent variable. On the other hand, the MAPE of 6.472811% indicates a good level of prediction accuracy, as the model predicts the values with an average percentage error of approximately 6.47%. Overall, the model demonstrates a satisfactory fit, particularly in terms of percentage accuracy, but there may still be room for improvement depending on the RMSE relative to the scale of the data."
   ]
  },
  {
   "cell_type": "markdown",
   "id": "0b162e0f",
   "metadata": {},
   "source": [
    "### Plot real vs predicted"
   ]
  },
  {
   "cell_type": "code",
   "execution_count": 337,
   "id": "bf21e1b6",
   "metadata": {},
   "outputs": [
    {
     "name": "stderr",
     "output_type": "stream",
     "text": [
      "\u001b[1m\u001b[22m`geom_smooth()` using formula = 'y ~ x'\n"
     ]
    },
    {
     "data": {
      "image/png": "[encoded data removed]",
      "text/plain": [
       "plot without title"
      ]
     },
     "metadata": {
      "image/png": {
       "height": 420,
       "width": 420
      }
     },
     "output_type": "display_data"
    }
   ],
   "source": [
    "# Plot comparison of real vs predicted values\n",
    "library(ggplot2)\n",
    "ggplot(comparison, aes(x = Real, y = Predicted)) +\n",
    "  geom_point() +\n",
    "  geom_smooth(method = \"lm\", se = FALSE) +\n",
    "  labs(x = \"Real\", y = \"Predicted\", title = \"Comparison of Real and Predicted Values\")\n"
   ]
  },
  {
   "cell_type": "markdown",
   "id": "2b0d7771",
   "metadata": {},
   "source": [
    "### Plot error (residuals) for each observation"
   ]
  },
  {
   "cell_type": "code",
   "execution_count": 339,
   "id": "02351cab",
   "metadata": {},
   "outputs": [
    {
     "data": {
      "image/png": "[encoded data removed]",
      "text/plain": [
       "plot without title"
      ]
     },
     "metadata": {
      "image/png": {
       "height": 420,
       "width": 420
      }
     },
     "output_type": "display_data"
    }
   ],
   "source": [
    "# Plot the error (residuals) for each observation\n",
    "comparison$error <- comparison$Real - comparison$Predicted\n",
    "ggplot(comparison, aes(x = 1:nrow(comparison), y = error)) +\n",
    "  geom_point() +\n",
    "  geom_hline(yintercept = 0, linetype = \"dashed\", color = \"red\") +\n",
    "  labs(x = \"Observation\", y = \"Error\", title = \"Error Plot\")\n"
   ]
  },
  {
   "cell_type": "code",
   "execution_count": 340,
   "id": "ddaf5392",
   "metadata": {},
   "outputs": [
    {
     "data": {
      "text/plain": [
       "\n",
       "Call:\n",
       "lm(formula = sqrt_TotalCost ~ FuelPrice + LoadFactor + Output + \n",
       "    AirlineID + Year, data = data)\n",
       "\n",
       "Residuals:\n",
       "     Min       1Q   Median       3Q      Max \n",
       "-143.424  -43.050   -3.096   40.731  133.785 \n",
       "\n",
       "Coefficients:\n",
       "              Estimate Std. Error t value Pr(>|t|)    \n",
       "(Intercept)  1.038e+03  1.468e+02   7.069 5.75e-09 ***\n",
       "FuelPrice    2.027e-04  7.917e-05   2.560   0.0137 *  \n",
       "LoadFactor  -1.098e+03  2.420e+02  -4.537 3.82e-05 ***\n",
       "Output       6.565e+02  4.088e+01  16.059  < 2e-16 ***\n",
       "AirlineID   -6.399e+01  1.315e+01  -4.865 1.27e-05 ***\n",
       "Year         3.454e+01  6.714e+00   5.144 4.93e-06 ***\n",
       "---\n",
       "Signif. codes:  0 '***' 0.001 '**' 0.01 '*' 0.05 '.' 0.1 ' ' 1\n",
       "\n",
       "Residual standard error: 67.48 on 48 degrees of freedom\n",
       "Multiple R-squared:  0.9848,\tAdjusted R-squared:  0.9832 \n",
       "F-statistic: 621.7 on 5 and 48 DF,  p-value: < 2.2e-16\n"
      ]
     },
     "metadata": {},
     "output_type": "display_data"
    }
   ],
   "source": [
    "# Display the summary of the selected model\n",
    "summary(model)"
   ]
  },
  {
   "cell_type": "markdown",
   "id": "993b91ef",
   "metadata": {},
   "source": [
    "### Final Regression Model Equation\n",
    "\n",
    "The final regression model, based on the given summary, is:\n",
    "\n",
    "$$\n",
    "\\sqrt{TotalCost} = 10380 + 2.027 \\times FuelPrice - 3.169 \\times LoadFactor + 656.5 \\times Output - 63.99 \\times AirlineID + 34.54 \\times Year\n",
    "$$\n",
    "\n",
    "Where:\n",
    "- **TotalCost** is the dependent variable (after square root transformation).\n",
    "- **FuelPrice**, **LoadFactor**, **Output**, **AirlineID**, and **Year** are the independent variables.\n"
   ]
  },
  {
   "cell_type": "markdown",
   "id": "f82923d4",
   "metadata": {},
   "source": [
    "# 9. Summary\n",
    "\n",
    "In this analysis, we constructed an econometric model to predict the `TotalCost` variable for different airlines over a 15-year period. Throughout the process, we developed multiple models and applied several methods to select the best one.\n",
    "\n",
    "1. **Data Preparation**:\n",
    "    - The dataset contained variables such as `Year`, `AirlineID`, `TotalCost`, `Output`, `FuelPrice`, and `LoadFactor`.\n",
    "    - The data was divided into a training set (80%) and a test set (20%) to ensure that the model could generalize well to unseen data.\n",
    "\n",
    "2. **Variable Selection Methods**:\n",
    "    - We used the **Information Capacity Analysis (ICA)** method, which led to the creation of several initial models, including `model_ICA1`, `model_ICA2`, and `model_ICA3`.\n",
    "    - **Correlation Coefficient Analysis** was also conducted twice to refine the selection of explanatory variables, resulting in additional models.\n",
    "\n",
    "3. **Data Transformation**:\n",
    "    - To improve model accuracy, the dependent variable `TotalCost` was transformed using square root and logarithmic transformations.\n",
    "    - This transformation led to the creation of models like `model_ICA1_sqrt` and `model_ICA1_log`.\n",
    "\n",
    "4. **Model Selection**:\n",
    "    - **`model_ICA1_sqrt`** was identified as the best model based on its high adjusted R-squared value (0.9832) and the lowest AIC and BIC values, indicating a good fit to the data.\n",
    "    - The selected model included the variables `FuelPrice`, `LoadFactor`, `Output`, `AirlineID`, and `Year` as predictors.\n",
    "\n",
    "5. **Model Testing**:\n",
    "    - The model was subjected to several diagnostic tests:\n",
    "        - **Shapiro-Wilk Test** confirmed the normality of residuals.\n",
    "        - **Runs Test** and **Durbin-Watson Test** indicated no significant evidence of non-randomness or first-order autocorrelation in the residuals.\n",
    "        - **Spearman Rank Correlation Test** confirmed homoscedasticity, showing no significant correlation between the residuals and the fitted values.\n",
    "        - **Skewness Analysis** indicated that the residuals were nearly symmetric.\n",
    "    - The model's predictive accuracy was evaluated using RMSE (63.3935) and MAPE (6.472811%), indicating that the model performs well in predicting `TotalCost`.\n",
    "\n",
    "6. **Conclusions**:\n",
    "    - The **`model_ICA1_sqrt`** was selected as the best model due to its strong fit and robustness, as indicated by the high adjusted R-squared and low prediction errors.\n",
    "    - The low MAPE suggests that the model provides accurate predictions with an average percentage error of around 6.47%.\n",
    "    - The diagnostic tests confirm that the model's assumptions were mostly met, indicating that the model is reliable for predicting `TotalCost`.\n",
    "\n",
    "\n",
    "Overall, the analysis successfully identified a robust model for predicting airline costs, with diagnostic checks confirming the reliability of the selected model. The model's good performance suggests it could be useful for practical applications in the field.\n"
   ]
  },
  {
   "cell_type": "code",
   "execution_count": null,
   "id": "ee92c56c",
   "metadata": {},
   "outputs": [],
   "source": []
  }
 ],
 "metadata": {
  "kernelspec": {
   "display_name": "R",
   "language": "R",
   "name": "ir"
  },
  "language_info": {
   "codemirror_mode": "r",
   "file_extension": ".r",
   "mimetype": "text/x-r-source",
   "name": "R",
   "pygments_lexer": "r",
   "version": "4.3.3"
  }
 },
 "nbformat": 4,
 "nbformat_minor": 5
}
